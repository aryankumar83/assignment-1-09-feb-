{
 "cells": [
  {
   "cell_type": "code",
   "execution_count": 17,
   "id": "01f30336",
   "metadata": {},
   "outputs": [],
   "source": [
    "# que 1 :\n",
    "class vehicle:\n",
    "    def __init__ (self, name_of_vehicle, max_speed, average_of_vehicle):\n",
    "        self.name_of_vehicle = name_of_vehicle\n",
    "        self.max_speed = max_speed\n",
    "        self.average_of_vehicle = average_of_vehicle\n",
    "    def return_vehicle_details(self):\n",
    "        return  self.name_of_vehicle, self.max_speed, self.average_of_vehicle"
   ]
  },
  {
   "cell_type": "code",
   "execution_count": 18,
   "id": "1c652b32",
   "metadata": {},
   "outputs": [],
   "source": [
    "toyota = vehicle(\"supra\",400,10)"
   ]
  },
  {
   "cell_type": "code",
   "execution_count": 19,
   "id": "5b68b862",
   "metadata": {},
   "outputs": [
    {
     "data": {
      "text/plain": [
       "('supra', 400, 10)"
      ]
     },
     "execution_count": 19,
     "metadata": {},
     "output_type": "execute_result"
    }
   ],
   "source": [
    "toyota.return_vehicle_details()"
   ]
  },
  {
   "cell_type": "code",
   "execution_count": 57,
   "id": "562d0a8b",
   "metadata": {},
   "outputs": [],
   "source": [
    "# que 2 :\n",
    "class child1(vehicle):\n",
    "    def __init__ (self,capacity):\n",
    "        self.capacity = capacity\n",
    "    def seating_capacity(self):\n",
    "        return self.capacity"
   ]
  },
  {
   "cell_type": "code",
   "execution_count": 58,
   "id": "bf384183",
   "metadata": {},
   "outputs": [],
   "source": [
    "supra = child1(5)\n"
   ]
  },
  {
   "cell_type": "code",
   "execution_count": 59,
   "id": "adaae40b",
   "metadata": {},
   "outputs": [
    {
     "data": {
      "text/plain": [
       "5"
      ]
     },
     "execution_count": 59,
     "metadata": {},
     "output_type": "execute_result"
    }
   ],
   "source": [
    "supra.seating_capacity()"
   ]
  },
  {
   "cell_type": "code",
   "execution_count": 32,
   "id": "0a0a8c6c",
   "metadata": {},
   "outputs": [],
   "source": [
    "# que 3 : \n",
    "# multiple inheritance : A class can be derived from more than one superclass in Python.\n",
    "class cls1:\n",
    "    def test_cls1(self):\n",
    "        return  \"cls1\"\n",
    "        "
   ]
  },
  {
   "cell_type": "code",
   "execution_count": 33,
   "id": "27045779",
   "metadata": {},
   "outputs": [],
   "source": [
    "class cls2 :\n",
    "    def test_cls2(self):\n",
    "        return \"cls2\""
   ]
  },
  {
   "cell_type": "code",
   "execution_count": 35,
   "id": "bc2ff201",
   "metadata": {},
   "outputs": [],
   "source": [
    "class cls3 (cls1,cls2):\n",
    "    pass"
   ]
  },
  {
   "cell_type": "code",
   "execution_count": 36,
   "id": "e1488fba",
   "metadata": {},
   "outputs": [],
   "source": [
    "obj_cls3 = cls3()"
   ]
  },
  {
   "cell_type": "code",
   "execution_count": 38,
   "id": "fc15344a",
   "metadata": {},
   "outputs": [
    {
     "data": {
      "text/plain": [
       "'cls1'"
      ]
     },
     "execution_count": 38,
     "metadata": {},
     "output_type": "execute_result"
    }
   ],
   "source": [
    "obj_cls3.test_cls1()\n",
    "\n"
   ]
  },
  {
   "cell_type": "code",
   "execution_count": 39,
   "id": "008fd236",
   "metadata": {},
   "outputs": [
    {
     "data": {
      "text/plain": [
       "'cls2'"
      ]
     },
     "execution_count": 39,
     "metadata": {},
     "output_type": "execute_result"
    }
   ],
   "source": [
    "obj_cls3.test_cls2()"
   ]
  },
  {
   "cell_type": "code",
   "execution_count": 45,
   "id": "4fdaba31",
   "metadata": {},
   "outputs": [],
   "source": [
    "# que 4 :\n",
    "#Getter: A method that allows you to access an attribute in a given class. \n",
    "#Setter: A method that allows you to set or mutate the value of an attribute in a class.\n",
    "class bank_acc:\n",
    "    def __init__(self,balance):\n",
    "        self.__balance=balance\n",
    "    def deposit(self,ammount):\n",
    "        self.__balance = self.__balance+ammount\n",
    "    def get_balance(self):\n",
    "        return self.__balance"
   ]
  },
  {
   "cell_type": "code",
   "execution_count": 46,
   "id": "e085e7fd",
   "metadata": {},
   "outputs": [],
   "source": [
    "aryan = bank_acc(1000)"
   ]
  },
  {
   "cell_type": "code",
   "execution_count": 47,
   "id": "5f23f7ce",
   "metadata": {},
   "outputs": [
    {
     "data": {
      "text/plain": [
       "1000"
      ]
     },
     "execution_count": 47,
     "metadata": {},
     "output_type": "execute_result"
    }
   ],
   "source": [
    "aryan.get_balance()"
   ]
  },
  {
   "cell_type": "code",
   "execution_count": 48,
   "id": "eef369ea",
   "metadata": {},
   "outputs": [],
   "source": [
    "aryan.deposit(2000)"
   ]
  },
  {
   "cell_type": "code",
   "execution_count": 49,
   "id": "5eef30f3",
   "metadata": {},
   "outputs": [
    {
     "data": {
      "text/plain": [
       "3000"
      ]
     },
     "execution_count": 49,
     "metadata": {},
     "output_type": "execute_result"
    }
   ],
   "source": [
    "aryan.get_balance()"
   ]
  },
  {
   "cell_type": "code",
   "execution_count": 50,
   "id": "33e123c8",
   "metadata": {},
   "outputs": [],
   "source": [
    "# que 5 :\n",
    "# Method overriding is a feature of object-oriented programming languages where the subclass or child class can provide the program with specific characteristics or a specific implementation process of data provided that are already defined in the parent class or superclass.\n",
    "class test:\n",
    "    def test_sub(self):\n",
    "        return \"sub result\"\n"
   ]
  },
  {
   "cell_type": "code",
   "execution_count": 51,
   "id": "37b7638f",
   "metadata": {},
   "outputs": [],
   "source": [
    "class child(test):\n",
    "    pass"
   ]
  },
  {
   "cell_type": "code",
   "execution_count": 52,
   "id": "522a6013",
   "metadata": {},
   "outputs": [],
   "source": [
    "obj_child = child()"
   ]
  },
  {
   "cell_type": "code",
   "execution_count": 53,
   "id": "4adcab1f",
   "metadata": {},
   "outputs": [
    {
     "data": {
      "text/plain": [
       "'sub result'"
      ]
     },
     "execution_count": 53,
     "metadata": {},
     "output_type": "execute_result"
    }
   ],
   "source": [
    "obj_child.test_sub()"
   ]
  },
  {
   "cell_type": "code",
   "execution_count": null,
   "id": "d79407c3",
   "metadata": {},
   "outputs": [],
   "source": []
  }
 ],
 "metadata": {
  "kernelspec": {
   "display_name": "Python 3 (ipykernel)",
   "language": "python",
   "name": "python3"
  },
  "language_info": {
   "codemirror_mode": {
    "name": "ipython",
    "version": 3
   },
   "file_extension": ".py",
   "mimetype": "text/x-python",
   "name": "python",
   "nbconvert_exporter": "python",
   "pygments_lexer": "ipython3",
   "version": "3.10.9"
  }
 },
 "nbformat": 4,
 "nbformat_minor": 5
}
